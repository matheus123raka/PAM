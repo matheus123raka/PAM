{
 "cells": [
  {
   "cell_type": "code",
   "execution_count": 4,
   "metadata": {},
   "outputs": [
    {
     "data": {
      "application/vnd.microsoft.datawrangler.viewer.v0+json": {
       "columns": [
        {
         "name": "index",
         "rawType": "int64",
         "type": "integer"
        },
        {
         "name": "Ticker",
         "rawType": "object",
         "type": "string"
        },
        {
         "name": "Date",
         "rawType": "datetime64[ns]",
         "type": "datetime"
        },
        {
         "name": "forward_return",
         "rawType": "float64",
         "type": "float"
        }
       ],
       "conversionMethod": "pd.DataFrame",
       "ref": "35f8c63a-a0bc-4b93-8fd7-b5fbf17d3baa",
       "rows": [
        [
         "0",
         "CIMB MK Equity",
         "2017-12-13 00:00:00",
         "0.09870550161812308"
        ],
        [
         "1",
         "CIMB MK Equity",
         "2017-12-14 00:00:00",
         "0.06593406593406592"
        ],
        [
         "2",
         "CIMB MK Equity",
         "2017-12-15 00:00:00",
         "0.07290015847860531"
        ],
        [
         "3",
         "CIMB MK Equity",
         "2017-12-18 00:00:00",
         "0.08108108108108114"
        ],
        [
         "4",
         "CIMB MK Equity",
         "2017-12-19 00:00:00",
         "0.0928"
        ]
       ],
       "shape": {
        "columns": 3,
        "rows": 5
       }
      },
      "text/html": [
       "<div>\n",
       "<style scoped>\n",
       "    .dataframe tbody tr th:only-of-type {\n",
       "        vertical-align: middle;\n",
       "    }\n",
       "\n",
       "    .dataframe tbody tr th {\n",
       "        vertical-align: top;\n",
       "    }\n",
       "\n",
       "    .dataframe thead th {\n",
       "        text-align: right;\n",
       "    }\n",
       "</style>\n",
       "<table border=\"1\" class=\"dataframe\">\n",
       "  <thead>\n",
       "    <tr style=\"text-align: right;\">\n",
       "      <th></th>\n",
       "      <th>Ticker</th>\n",
       "      <th>Date</th>\n",
       "      <th>forward_return</th>\n",
       "    </tr>\n",
       "  </thead>\n",
       "  <tbody>\n",
       "    <tr>\n",
       "      <th>0</th>\n",
       "      <td>CIMB MK Equity</td>\n",
       "      <td>2017-12-13</td>\n",
       "      <td>0.098706</td>\n",
       "    </tr>\n",
       "    <tr>\n",
       "      <th>1</th>\n",
       "      <td>CIMB MK Equity</td>\n",
       "      <td>2017-12-14</td>\n",
       "      <td>0.065934</td>\n",
       "    </tr>\n",
       "    <tr>\n",
       "      <th>2</th>\n",
       "      <td>CIMB MK Equity</td>\n",
       "      <td>2017-12-15</td>\n",
       "      <td>0.072900</td>\n",
       "    </tr>\n",
       "    <tr>\n",
       "      <th>3</th>\n",
       "      <td>CIMB MK Equity</td>\n",
       "      <td>2017-12-18</td>\n",
       "      <td>0.081081</td>\n",
       "    </tr>\n",
       "    <tr>\n",
       "      <th>4</th>\n",
       "      <td>CIMB MK Equity</td>\n",
       "      <td>2017-12-19</td>\n",
       "      <td>0.092800</td>\n",
       "    </tr>\n",
       "  </tbody>\n",
       "</table>\n",
       "</div>"
      ],
      "text/plain": [
       "           Ticker       Date  forward_return\n",
       "0  CIMB MK Equity 2017-12-13        0.098706\n",
       "1  CIMB MK Equity 2017-12-14        0.065934\n",
       "2  CIMB MK Equity 2017-12-15        0.072900\n",
       "3  CIMB MK Equity 2017-12-18        0.081081\n",
       "4  CIMB MK Equity 2017-12-19        0.092800"
      ]
     },
     "execution_count": 4,
     "metadata": {},
     "output_type": "execute_result"
    }
   ],
   "source": [
    "import pandas as pd\n",
    "import matplotlib.pyplot as plt\n",
    "\n",
    "# PARAMETERS\n",
    "selected_ticker = 'GAM MK Equity'\n",
    "selected_factor = 'Net Debt scaled by ME'\n",
    "horizon_days = 21\n",
    "\n",
    "# 1) Load computed factors\n",
    "factors = pd.read_csv('computed_factors.csv')\n",
    "factors['Date'] = pd.to_datetime(factors['Date']).dt.tz_localize(None)\n",
    "\n",
    "# 2) Load market prices and compute forward returns\n",
    "price_files = {\n",
    "    'CIMB MK Equity': 'Data_Market_CIMB.xlsx',\n",
    "    'GAM MK Equity':  'Data_Market_GAM.xlsx',\n",
    "}\n",
    "price_dfs = []\n",
    "for ticker, fn in price_files.items():\n",
    "    p = pd.read_excel(fn, skiprows=1, na_values=['#N/A'])\n",
    "    p['Date'] = pd.to_datetime(p['Date'], dayfirst=True)\n",
    "    p = p.dropna(subset=['PX_LAST']).sort_values('Date')\n",
    "    p['Ticker'] = ticker\n",
    "    # forward return = (price_t+horizon / price_t) - 1\n",
    "    p['forward_return'] = p['PX_LAST'].shift(-horizon_days) / p['PX_LAST'] - 1\n",
    "    price_dfs.append(p[['Ticker','Date','forward_return']])\n",
    "\n",
    "prices = pd.concat(price_dfs, ignore_index=True)\n",
    "\n",
    "prices.head()"
   ]
  },
  {
   "cell_type": "code",
   "execution_count": 5,
   "metadata": {},
   "outputs": [
    {
     "data": {
      "application/vnd.microsoft.datawrangler.viewer.v0+json": {
       "columns": [
        {
         "name": "index",
         "rawType": "int64",
         "type": "integer"
        },
        {
         "name": "Ticker",
         "rawType": "object",
         "type": "string"
        },
        {
         "name": "Date",
         "rawType": "datetime64[ns]",
         "type": "datetime"
        },
        {
         "name": "Value",
         "rawType": "float64",
         "type": "float"
        },
        {
         "name": "Name",
         "rawType": "object",
         "type": "string"
        }
       ],
       "conversionMethod": "pd.DataFrame",
       "ref": "ebdb4a7f-e023-4dc6-aab4-829f90a00f40",
       "rows": [
        [
         "86355",
         "GAM MK Equity",
         "2017-12-13 00:00:00",
         null,
         "Net Debt scaled by ME"
        ],
        [
         "86356",
         "GAM MK Equity",
         "2017-12-14 00:00:00",
         null,
         "Net Debt scaled by ME"
        ],
        [
         "86357",
         "GAM MK Equity",
         "2017-12-15 00:00:00",
         null,
         "Net Debt scaled by ME"
        ],
        [
         "86358",
         "GAM MK Equity",
         "2017-12-16 00:00:00",
         null,
         "Net Debt scaled by ME"
        ],
        [
         "86359",
         "GAM MK Equity",
         "2017-12-17 00:00:00",
         null,
         "Net Debt scaled by ME"
        ],
        [
         "86360",
         "GAM MK Equity",
         "2017-12-18 00:00:00",
         null,
         "Net Debt scaled by ME"
        ],
        [
         "86361",
         "GAM MK Equity",
         "2017-12-19 00:00:00",
         null,
         "Net Debt scaled by ME"
        ],
        [
         "86362",
         "GAM MK Equity",
         "2017-12-20 00:00:00",
         null,
         "Net Debt scaled by ME"
        ],
        [
         "86363",
         "GAM MK Equity",
         "2017-12-21 00:00:00",
         null,
         "Net Debt scaled by ME"
        ],
        [
         "86364",
         "GAM MK Equity",
         "2017-12-22 00:00:00",
         null,
         "Net Debt scaled by ME"
        ],
        [
         "86365",
         "GAM MK Equity",
         "2017-12-23 00:00:00",
         null,
         "Net Debt scaled by ME"
        ],
        [
         "86366",
         "GAM MK Equity",
         "2017-12-24 00:00:00",
         null,
         "Net Debt scaled by ME"
        ],
        [
         "86367",
         "GAM MK Equity",
         "2017-12-25 00:00:00",
         null,
         "Net Debt scaled by ME"
        ],
        [
         "86368",
         "GAM MK Equity",
         "2017-12-26 00:00:00",
         null,
         "Net Debt scaled by ME"
        ],
        [
         "86369",
         "GAM MK Equity",
         "2017-12-27 00:00:00",
         null,
         "Net Debt scaled by ME"
        ],
        [
         "86370",
         "GAM MK Equity",
         "2017-12-28 00:00:00",
         null,
         "Net Debt scaled by ME"
        ],
        [
         "86371",
         "GAM MK Equity",
         "2017-12-29 00:00:00",
         null,
         "Net Debt scaled by ME"
        ],
        [
         "86372",
         "GAM MK Equity",
         "2017-12-30 00:00:00",
         null,
         "Net Debt scaled by ME"
        ],
        [
         "86373",
         "GAM MK Equity",
         "2017-12-31 00:00:00",
         null,
         "Net Debt scaled by ME"
        ],
        [
         "86374",
         "GAM MK Equity",
         "2018-01-01 00:00:00",
         null,
         "Net Debt scaled by ME"
        ],
        [
         "86375",
         "GAM MK Equity",
         "2018-01-02 00:00:00",
         null,
         "Net Debt scaled by ME"
        ],
        [
         "86376",
         "GAM MK Equity",
         "2018-01-03 00:00:00",
         null,
         "Net Debt scaled by ME"
        ],
        [
         "86377",
         "GAM MK Equity",
         "2018-01-04 00:00:00",
         null,
         "Net Debt scaled by ME"
        ],
        [
         "86378",
         "GAM MK Equity",
         "2018-01-05 00:00:00",
         null,
         "Net Debt scaled by ME"
        ],
        [
         "86379",
         "GAM MK Equity",
         "2018-01-06 00:00:00",
         null,
         "Net Debt scaled by ME"
        ],
        [
         "86380",
         "GAM MK Equity",
         "2018-01-07 00:00:00",
         null,
         "Net Debt scaled by ME"
        ],
        [
         "86381",
         "GAM MK Equity",
         "2018-01-08 00:00:00",
         null,
         "Net Debt scaled by ME"
        ],
        [
         "86382",
         "GAM MK Equity",
         "2018-01-09 00:00:00",
         null,
         "Net Debt scaled by ME"
        ],
        [
         "86383",
         "GAM MK Equity",
         "2018-01-10 00:00:00",
         null,
         "Net Debt scaled by ME"
        ],
        [
         "86384",
         "GAM MK Equity",
         "2018-01-11 00:00:00",
         null,
         "Net Debt scaled by ME"
        ],
        [
         "86385",
         "GAM MK Equity",
         "2018-01-12 00:00:00",
         null,
         "Net Debt scaled by ME"
        ],
        [
         "86386",
         "GAM MK Equity",
         "2018-01-13 00:00:00",
         null,
         "Net Debt scaled by ME"
        ],
        [
         "86387",
         "GAM MK Equity",
         "2018-01-14 00:00:00",
         null,
         "Net Debt scaled by ME"
        ],
        [
         "86388",
         "GAM MK Equity",
         "2018-01-15 00:00:00",
         null,
         "Net Debt scaled by ME"
        ],
        [
         "86389",
         "GAM MK Equity",
         "2018-01-16 00:00:00",
         null,
         "Net Debt scaled by ME"
        ],
        [
         "86390",
         "GAM MK Equity",
         "2018-01-17 00:00:00",
         null,
         "Net Debt scaled by ME"
        ],
        [
         "86391",
         "GAM MK Equity",
         "2018-01-18 00:00:00",
         null,
         "Net Debt scaled by ME"
        ],
        [
         "86392",
         "GAM MK Equity",
         "2018-01-19 00:00:00",
         null,
         "Net Debt scaled by ME"
        ],
        [
         "86393",
         "GAM MK Equity",
         "2018-01-20 00:00:00",
         null,
         "Net Debt scaled by ME"
        ],
        [
         "86394",
         "GAM MK Equity",
         "2018-01-21 00:00:00",
         null,
         "Net Debt scaled by ME"
        ],
        [
         "86395",
         "GAM MK Equity",
         "2018-01-22 00:00:00",
         null,
         "Net Debt scaled by ME"
        ],
        [
         "86396",
         "GAM MK Equity",
         "2018-01-23 00:00:00",
         null,
         "Net Debt scaled by ME"
        ],
        [
         "86397",
         "GAM MK Equity",
         "2018-01-24 00:00:00",
         null,
         "Net Debt scaled by ME"
        ],
        [
         "86398",
         "GAM MK Equity",
         "2018-01-25 00:00:00",
         null,
         "Net Debt scaled by ME"
        ],
        [
         "86399",
         "GAM MK Equity",
         "2018-01-26 00:00:00",
         null,
         "Net Debt scaled by ME"
        ],
        [
         "86400",
         "GAM MK Equity",
         "2018-01-27 00:00:00",
         null,
         "Net Debt scaled by ME"
        ],
        [
         "86401",
         "GAM MK Equity",
         "2018-01-28 00:00:00",
         null,
         "Net Debt scaled by ME"
        ],
        [
         "86402",
         "GAM MK Equity",
         "2018-01-29 00:00:00",
         null,
         "Net Debt scaled by ME"
        ],
        [
         "86403",
         "GAM MK Equity",
         "2018-01-30 00:00:00",
         null,
         "Net Debt scaled by ME"
        ],
        [
         "86404",
         "GAM MK Equity",
         "2018-01-31 00:00:00",
         null,
         "Net Debt scaled by ME"
        ]
       ],
       "shape": {
        "columns": 4,
        "rows": 100
       }
      },
      "text/html": [
       "<div>\n",
       "<style scoped>\n",
       "    .dataframe tbody tr th:only-of-type {\n",
       "        vertical-align: middle;\n",
       "    }\n",
       "\n",
       "    .dataframe tbody tr th {\n",
       "        vertical-align: top;\n",
       "    }\n",
       "\n",
       "    .dataframe thead th {\n",
       "        text-align: right;\n",
       "    }\n",
       "</style>\n",
       "<table border=\"1\" class=\"dataframe\">\n",
       "  <thead>\n",
       "    <tr style=\"text-align: right;\">\n",
       "      <th></th>\n",
       "      <th>Ticker</th>\n",
       "      <th>Date</th>\n",
       "      <th>Value</th>\n",
       "      <th>Name</th>\n",
       "    </tr>\n",
       "  </thead>\n",
       "  <tbody>\n",
       "    <tr>\n",
       "      <th>86355</th>\n",
       "      <td>GAM MK Equity</td>\n",
       "      <td>2017-12-13</td>\n",
       "      <td>NaN</td>\n",
       "      <td>Net Debt scaled by ME</td>\n",
       "    </tr>\n",
       "    <tr>\n",
       "      <th>86356</th>\n",
       "      <td>GAM MK Equity</td>\n",
       "      <td>2017-12-14</td>\n",
       "      <td>NaN</td>\n",
       "      <td>Net Debt scaled by ME</td>\n",
       "    </tr>\n",
       "    <tr>\n",
       "      <th>86357</th>\n",
       "      <td>GAM MK Equity</td>\n",
       "      <td>2017-12-15</td>\n",
       "      <td>NaN</td>\n",
       "      <td>Net Debt scaled by ME</td>\n",
       "    </tr>\n",
       "    <tr>\n",
       "      <th>86358</th>\n",
       "      <td>GAM MK Equity</td>\n",
       "      <td>2017-12-16</td>\n",
       "      <td>NaN</td>\n",
       "      <td>Net Debt scaled by ME</td>\n",
       "    </tr>\n",
       "    <tr>\n",
       "      <th>86359</th>\n",
       "      <td>GAM MK Equity</td>\n",
       "      <td>2017-12-17</td>\n",
       "      <td>NaN</td>\n",
       "      <td>Net Debt scaled by ME</td>\n",
       "    </tr>\n",
       "    <tr>\n",
       "      <th>...</th>\n",
       "      <td>...</td>\n",
       "      <td>...</td>\n",
       "      <td>...</td>\n",
       "      <td>...</td>\n",
       "    </tr>\n",
       "    <tr>\n",
       "      <th>86450</th>\n",
       "      <td>GAM MK Equity</td>\n",
       "      <td>2018-03-18</td>\n",
       "      <td>NaN</td>\n",
       "      <td>Net Debt scaled by ME</td>\n",
       "    </tr>\n",
       "    <tr>\n",
       "      <th>86451</th>\n",
       "      <td>GAM MK Equity</td>\n",
       "      <td>2018-03-19</td>\n",
       "      <td>NaN</td>\n",
       "      <td>Net Debt scaled by ME</td>\n",
       "    </tr>\n",
       "    <tr>\n",
       "      <th>86452</th>\n",
       "      <td>GAM MK Equity</td>\n",
       "      <td>2018-03-20</td>\n",
       "      <td>NaN</td>\n",
       "      <td>Net Debt scaled by ME</td>\n",
       "    </tr>\n",
       "    <tr>\n",
       "      <th>86453</th>\n",
       "      <td>GAM MK Equity</td>\n",
       "      <td>2018-03-21</td>\n",
       "      <td>NaN</td>\n",
       "      <td>Net Debt scaled by ME</td>\n",
       "    </tr>\n",
       "    <tr>\n",
       "      <th>86454</th>\n",
       "      <td>GAM MK Equity</td>\n",
       "      <td>2018-03-22</td>\n",
       "      <td>NaN</td>\n",
       "      <td>Net Debt scaled by ME</td>\n",
       "    </tr>\n",
       "  </tbody>\n",
       "</table>\n",
       "<p>100 rows × 4 columns</p>\n",
       "</div>"
      ],
      "text/plain": [
       "              Ticker       Date  Value                   Name\n",
       "86355  GAM MK Equity 2017-12-13    NaN  Net Debt scaled by ME\n",
       "86356  GAM MK Equity 2017-12-14    NaN  Net Debt scaled by ME\n",
       "86357  GAM MK Equity 2017-12-15    NaN  Net Debt scaled by ME\n",
       "86358  GAM MK Equity 2017-12-16    NaN  Net Debt scaled by ME\n",
       "86359  GAM MK Equity 2017-12-17    NaN  Net Debt scaled by ME\n",
       "...              ...        ...    ...                    ...\n",
       "86450  GAM MK Equity 2018-03-18    NaN  Net Debt scaled by ME\n",
       "86451  GAM MK Equity 2018-03-19    NaN  Net Debt scaled by ME\n",
       "86452  GAM MK Equity 2018-03-20    NaN  Net Debt scaled by ME\n",
       "86453  GAM MK Equity 2018-03-21    NaN  Net Debt scaled by ME\n",
       "86454  GAM MK Equity 2018-03-22    NaN  Net Debt scaled by ME\n",
       "\n",
       "[100 rows x 4 columns]"
      ]
     },
     "execution_count": 5,
     "metadata": {},
     "output_type": "execute_result"
    }
   ],
   "source": [
    "# 3) Filter for the ticker & factor, then merge\n",
    "df_factor = factors[\n",
    "    (factors['Ticker'] == selected_ticker) &\n",
    "    (factors['Name'] == selected_factor)\n",
    "].copy()\n",
    "\n",
    "df_plot = (\n",
    "    df_factor\n",
    "    .merge(prices[prices['Ticker']==selected_ticker], on=['Ticker','Date'], how='inner')\n",
    "    .dropna(subset=['forward_return', 'Value'])\n",
    ")\n",
    "\n",
    "df_factor.head(100)"
   ]
  },
  {
   "cell_type": "code",
   "execution_count": null,
   "metadata": {},
   "outputs": [
    {
     "data": {
      "image/png": "[encoded data removed]",
      "text/plain": [
       "<Figure size 800x600 with 1 Axes>"
      ]
     },
     "metadata": {},
     "output_type": "display_data"
    }
   ],
   "source": [
    "# scatter plot\n",
    "plt.figure(figsize=(8,6))\n",
    "plt.scatter(df_plot['Value'], df_plot['forward_return'] * 100, alpha=0.7)\n",
    "plt.title(f'Forward Return vs. {selected_factor} ({selected_ticker})')\n",
    "plt.xlabel(selected_factor)\n",
    "plt.ylabel(f'{horizon_days}-Day Forward Return (%)')\n",
    "plt.grid(True)\n",
    "plt.tight_layout()\n",
    "plt.show()\n"
   ]
  }
 ],
 "metadata": {
  "kernelspec": {
   "display_name": ".venv",
   "language": "python",
   "name": "python3"
  },
  "language_info": {
   "codemirror_mode": {
    "name": "ipython",
    "version": 3
   },
   "file_extension": ".py",
   "mimetype": "text/x-python",
   "name": "python",
   "nbconvert_exporter": "python",
   "pygments_lexer": "ipython3",
   "version": "3.13.3"
  }
 },
 "nbformat": 4,
 "nbformat_minor": 2
}
